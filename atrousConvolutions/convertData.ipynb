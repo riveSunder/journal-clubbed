{
 "cells": [
  {
   "cell_type": "code",
   "execution_count": 3,
   "metadata": {
    "collapsed": true
   },
   "outputs": [],
   "source": [
    "# convert tifs to .npy file \n",
    "\n",
    "import os\n",
    "import numpy as np\n",
    "import imageio as misc # I think this is deprecated, we'll see!\n",
    "import matplotlib.pyplot as plt\n",
    "\n",
    "\n",
    "def getData(myDir,myCurDir):\n",
    "    myStart = 0\n",
    "    for myFile in myCurDir:\n",
    "        myTempImg = misc.imread(myDir+myFile)\n",
    "        myTempImg = myTempImg[:,:,0]\n",
    "        if myStart == 0:\n",
    "            myDimX = np.shape(myTempImg)[0]\n",
    "            myDimY = np.shape(myTempImg)[1]\n",
    "            myData = np.reshape(myTempImg, (1,myDimX, myDimY))\n",
    "            myStart = 1\n",
    "        else:\n",
    "            myData = np.append(myData,np.reshape(myTempImg, (1,myDimX, myDimY)),axis=0)\n",
    "    return myData\n"
   ]
  },
  {
   "cell_type": "code",
   "execution_count": 5,
   "metadata": {
    "collapsed": true
   },
   "outputs": [],
   "source": [
    "\n",
    "# get a list\n",
    "\"\"\"data from Coelho, Shariff, and Murphy. 'NUCLEAR SEGMENTATION IN MICROSCOPE CELL IMAGES: \n",
    "A HAND-SEGMENTED DATASET AND COMPARISON OF ALGORITHMS' IEEE (2009)\"\"\"\n",
    "myDir = \"../datasets/coelhoMurphy2009/images/dna-images/gnf/\"\n",
    "myCurDir = os.listdir(myDir)\n",
    "\n",
    "myData1 = getData(myDir,myCurDir)\n",
    "\n",
    "myDir = \"../datasets/coelhoMurphy2009/images/dna-images/ic100/\"\n",
    "myCurDir = os.listdir(myDir)\n",
    "\n",
    "\n",
    "myData2 = getData(myDir,myCurDir)\n",
    "\n",
    "# check if we did it right\n",
    "\n",
    "\n",
    "# combine the two datasets\n",
    "myData = np.append(myData1[:,0:1024,0:1344],myData2[:,0:1024,0:1344],axis=0)"
   ]
  },
  {
   "cell_type": "code",
   "execution_count": 16,
   "metadata": {
    "collapsed": true
   },
   "outputs": [],
   "source": [
    "# save the data\n",
    "\n",
    "np.save(\"./coelhoData.npy\",myData)"
   ]
  },
  {
   "cell_type": "code",
   "execution_count": 8,
   "metadata": {},
   "outputs": [],
   "source": [
    "np.shape(myData)\n",
    "mySeed = 42\n",
    "np.random.seed(mySeed)\n",
    "nVal = int(0.1*len(myData))\n",
    "nTrain = int(0.8*len(myData))\n",
    "\n",
    "np.random.shuffle(myData)\n",
    "\n",
    "myTrain = myData[0:nTrain,:,:]\n",
    "myVal = myData[nTrain:nTrain+nVal,:,:]\n",
    "myTest = myData[nTrain+nVal:len(myData)-1,:,:]\n",
    "\n",
    "np.save(\"./coelTrain.npy\",myTrain)\n",
    "np.save(\"./coelVal.npy\",myVal)\n",
    "np.save(\"./coelTest.npy\",myTest)\n",
    "\n"
   ]
  }
 ],
 "metadata": {
  "kernelspec": {
   "display_name": "Python (lV)",
   "language": "python",
   "name": "lv"
  },
  "language_info": {
   "codemirror_mode": {
    "name": "ipython",
    "version": 3
   },
   "file_extension": ".py",
   "mimetype": "text/x-python",
   "name": "python",
   "nbconvert_exporter": "python",
   "pygments_lexer": "ipython3",
   "version": "3.6.3"
  }
 },
 "nbformat": 4,
 "nbformat_minor": 2
}
